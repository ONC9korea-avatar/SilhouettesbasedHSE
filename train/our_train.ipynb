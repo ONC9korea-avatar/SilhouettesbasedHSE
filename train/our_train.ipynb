{
 "cells": [
  {
   "cell_type": "code",
   "execution_count": 1,
   "metadata": {},
   "outputs": [],
   "source": [
    "%load_ext autoreload\n",
    "%autoreload 2"
   ]
  },
  {
   "cell_type": "code",
   "execution_count": 2,
   "metadata": {},
   "outputs": [
    {
     "name": "stderr",
     "output_type": "stream",
     "text": [
      "/home/dgist/miniconda3/envs/HSE/lib/python3.7/site-packages/tqdm/auto.py:21: TqdmWarning: IProgress not found. Please update jupyter and ipywidgets. See https://ipywidgets.readthedocs.io/en/stable/user_install.html\n",
      "  from .autonotebook import tqdm as notebook_tqdm\n"
     ]
    }
   ],
   "source": [
    "import os\n",
    "import time\n",
    "from tqdm import tqdm\n",
    "\n",
    "import torch\n",
    "import torch.nn as nn\n",
    "\n",
    "import numpy as np\n",
    "\n",
    "import matplotlib.pyplot as plt\n",
    "\n",
    "from torch.utils.data import Dataset, DataLoader, random_split\n",
    "from torch.autograd import Variable\n",
    "\n",
    "from regressCNN import RegressionPCA\n",
    "\n",
    "from data_processing import *"
   ]
  },
  {
   "attachments": {},
   "cell_type": "markdown",
   "metadata": {},
   "source": [
    "### Device Check"
   ]
  },
  {
   "cell_type": "code",
   "execution_count": 3,
   "metadata": {},
   "outputs": [
    {
     "name": "stdout",
     "output_type": "stream",
     "text": [
      "cuda available: True\n",
      "using device cuda:0\n"
     ]
    }
   ],
   "source": [
    "cuda_available = torch.cuda.is_available()\n",
    "device = torch.device('cuda:0' if cuda_available else 'cpu')\n",
    "\n",
    "print('cuda available:', cuda_available)\n",
    "print('using device', device)"
   ]
  },
  {
   "attachments": {},
   "cell_type": "markdown",
   "metadata": {},
   "source": [
    "### Dataset Configuration"
   ]
  },
  {
   "cell_type": "code",
   "execution_count": 4,
   "metadata": {},
   "outputs": [],
   "source": [
    "def repeat_data(x):\n",
    "    row, col = x.shape\n",
    "    data = np.zeros([row, col+2])\n",
    "    data[:, 0] = x[:, -1]\n",
    "    data[:, 1:-1] = x\n",
    "    data[:, -1] = x[:, 0]\n",
    "    return data\n",
    "\n",
    "def _transform(x):\n",
    "    return repeat_data(x.transpose())"
   ]
  },
  {
   "cell_type": "code",
   "execution_count": 5,
   "metadata": {},
   "outputs": [],
   "source": [
    "class HSEDataset(Dataset):\n",
    "    def __init__(self, data_path, transform=_transform):\n",
    "        self.frontal = []\n",
    "        self.lateral = []\n",
    "        self.shape = []\n",
    "\n",
    "        self.transform = transform\n",
    "\n",
    "        for dir in tqdm(os.listdir(data_path), desc='loading data'):\n",
    "            path = os.path.join(data_path, dir)\n",
    "            f = np.load(os.path.join(path, 'frontal.npy'))\n",
    "            l = np.load(os.path.join(path, 'lateral.npy'))\n",
    "            s = np.load(os.path.join(path, 'shape.npy'))\n",
    "\n",
    "            self.frontal.append(f)\n",
    "            self.lateral.append(l)\n",
    "            self.shape.append(s)\n",
    "\n",
    "    def __getitem__(self, i):\n",
    "        f = self.frontal[i]\n",
    "        l = self.lateral[i]\n",
    "        s = self.shape[i]\n",
    "\n",
    "        if self.transform:\n",
    "            f = self.transform(f)\n",
    "            l = self.transform(l)\n",
    "        return f, l, s\n",
    "\n",
    "    def __len__(self):\n",
    "        return len(self.frontal)"
   ]
  },
  {
   "attachments": {},
   "cell_type": "markdown",
   "metadata": {},
   "source": [
    "### Training Configuration"
   ]
  },
  {
   "cell_type": "code",
   "execution_count": 6,
   "metadata": {},
   "outputs": [],
   "source": [
    "batch_size = 32\n",
    "learning_rate = 1e-5\n",
    "training_epoch = 1000"
   ]
  },
  {
   "cell_type": "code",
   "execution_count": 7,
   "metadata": {},
   "outputs": [
    {
     "name": "stderr",
     "output_type": "stream",
     "text": [
      "loading data: 100%|██████████| 7970/7970 [00:09<00:00, 841.81it/s]\n",
      "loading data: 100%|██████████| 886/886 [00:01<00:00, 852.59it/s]"
     ]
    },
    {
     "name": "stdout",
     "output_type": "stream",
     "text": [
      "train dataloader len: 250\n"
     ]
    },
    {
     "name": "stderr",
     "output_type": "stream",
     "text": [
      "\n"
     ]
    }
   ],
   "source": [
    "train_dataset = HSEDataset('../../dataset-generation/datasets/HSE/sample_648/train/')\n",
    "test_dataset = HSEDataset('../../dataset-generation/datasets/HSE/sample_648/test/')\n",
    "\n",
    "train_data_loader = DataLoader(dataset=train_dataset, batch_size=batch_size, shuffle=True)\n",
    "test_data_loader = DataLoader(dataset=test_dataset, batch_size=batch_size, shuffle=True)\n",
    "\n",
    "print('train dataloader len:', len(train_data_loader))"
   ]
  },
  {
   "cell_type": "code",
   "execution_count": 8,
   "metadata": {},
   "outputs": [],
   "source": [
    "model = RegressionPCA(22).to(device)\n",
    "criterion = nn.MSELoss()\n",
    "optimizer = torch.optim.Adam(model.parameters(), lr=learning_rate, betas=(0.9, 0.999))"
   ]
  },
  {
   "attachments": {},
   "cell_type": "markdown",
   "metadata": {},
   "source": [
    "### Training"
   ]
  },
  {
   "cell_type": "code",
   "execution_count": 9,
   "metadata": {},
   "outputs": [
    {
     "name": "stderr",
     "output_type": "stream",
     "text": [
      "epoch:87 | TrainLoss:0.060672:   9%|▊         | 87/1000 [07:37<1:19:24,  5.22s/it]"
     ]
    }
   ],
   "source": [
    "gender='male'\n",
    "loss_train_epoch1 = []\n",
    "loss_train = []\n",
    "\n",
    "checkpoint_path = './model/checkpoint_{}/'.format(time.ctime().replace(' ', '_'))\n",
    "os.mkdir(checkpoint_path)\n",
    "\n",
    "pbar = tqdm(range(1, training_epoch+1), desc='epoch', leave=False)\n",
    "\n",
    "for epoch in pbar:\n",
    "    loss_n = 0\n",
    "    \n",
    "    for i, data_temp in enumerate(train_data_loader):\n",
    "        # read data from data_loader, get 32 data each time\n",
    "        front_e_ith, side_e_ith, shape_ith = data_temp\n",
    "        front_e_ith, side_e_ith, shape_ith = \\\n",
    "            front_e_ith.to(device, dtype = torch.float), \\\n",
    "                side_e_ith.to(device, dtype = torch.float), \\\n",
    "                    shape_ith.to(device, dtype = torch.float)\n",
    "        \n",
    "        # feed data and forward pass\n",
    "        outputs = model(front_e_ith, side_e_ith)\n",
    "        #********************************************************************************************\n",
    "        \n",
    "        loss = criterion(outputs, shape_ith.float())\n",
    "        loss_n += loss.item()\n",
    "        #********************************************************************************************\n",
    "        # backward and optimize\n",
    "        optimizer.zero_grad()\n",
    "        loss.backward()\n",
    "        optimizer.step()\n",
    "\n",
    "        if epoch == 1:\n",
    "            loss_train_epoch1.append(loss)\n",
    "    \n",
    "    loss_n /= len(train_data_loader)\n",
    "\n",
    "    pbar.set_description(f'epoch:{epoch} | TrainLoss:{loss_n:.6f}')\n",
    "    loss_train.append(loss_n)\n",
    "    \n",
    "    if epoch%50 == 0:\n",
    "        torch.save(model.state_dict(), os.path.join(checkpoint_path, f'{gender}_{epoch}.ckpt'))"
   ]
  },
  {
   "attachments": {},
   "cell_type": "markdown",
   "metadata": {},
   "source": [
    "### Training Result"
   ]
  },
  {
   "cell_type": "code",
   "execution_count": null,
   "metadata": {},
   "outputs": [
    {
     "data": {
      "image/png": "[encoded data removed]",
      "text/plain": [
       "<Figure size 640x480 with 1 Axes>"
      ]
     },
     "metadata": {},
     "output_type": "display_data"
    }
   ],
   "source": [
    "plt.title('Training Loss')\n",
    "plt.xlabel('epochs')\n",
    "plt.ylabel('loss')\n",
    "\n",
    "plt.plot(range(1, training_epoch+1), loss_train)\n",
    "plt.show()"
   ]
  },
  {
   "cell_type": "code",
   "execution_count": null,
   "metadata": {},
   "outputs": [],
   "source": [
    "plt.title('Training Loss at epoch=1')\n",
    "plt.xlabel('iterations')\n",
    "plt.ylabel('loss')\n",
    "\n",
    "plt.plot(loss_train_epoch1)\n",
    "plt.show()"
   ]
  }
 ],
 "metadata": {
  "kernelspec": {
   "display_name": "HSE",
   "language": "python",
   "name": "python3"
  },
  "language_info": {
   "codemirror_mode": {
    "name": "ipython",
    "version": 3
   },
   "file_extension": ".py",
   "mimetype": "text/x-python",
   "name": "python",
   "nbconvert_exporter": "python",
   "pygments_lexer": "ipython3",
   "version": "3.7.16"
  },
  "orig_nbformat": 4
 },
 "nbformat": 4,
 "nbformat_minor": 2
}
