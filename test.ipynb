{
 "cells": [
  {
   "cell_type": "code",
   "execution_count": 1,
   "metadata": {},
   "outputs": [],
   "source": [
    "import os\n",
    "import numpy as np\n",
    "import matplotlib.pyplot as plt\n",
    "from tqdm import tqdm\n",
    "\n",
    "import torch\n",
    "from model.dataset import HSEDataset\n",
    "from torch.utils.data import DataLoader\n",
    "\n",
    "from model.regressCNN import RegressionPCA\n",
    "from SMPL.smpl_torch_batch import SMPLModel\n",
    "\n",
    "from obj_utils.io import *"
   ]
  },
  {
   "cell_type": "code",
   "execution_count": 2,
   "metadata": {},
   "outputs": [
    {
     "name": "stdout",
     "output_type": "stream",
     "text": [
      "cuda available: True\n",
      "using device cuda:0\n"
     ]
    }
   ],
   "source": [
    "cuda_available = torch.cuda.is_available()\n",
    "print('cuda available:', cuda_available)\n",
    "\n",
    "device = torch.device('cuda:0' if cuda_available else 'cpu')\n",
    "print('using device', device)"
   ]
  },
  {
   "attachments": {},
   "cell_type": "markdown",
   "metadata": {},
   "source": [
    "# Inference on Test Set"
   ]
  },
  {
   "cell_type": "code",
   "execution_count": 3,
   "metadata": {},
   "outputs": [],
   "source": [
    "infer_model_name = 'Jun_21_15:34:22_2023'\n",
    "infer_model_path = f'./checkpoints/{infer_model_name}/epochs_500.ckpt'\n",
    "\n",
    "infer_model = RegressionPCA(10).to(device)\n",
    "infer_model.load_state_dict(torch.load(infer_model_path))\n",
    "_ = infer_model.eval()"
   ]
  },
  {
   "cell_type": "code",
   "execution_count": 4,
   "metadata": {},
   "outputs": [],
   "source": [
    "dataset_path = './dataset_HSE/SMPL_augmentated_pose_variation/sample_points/'\n",
    "\n",
    "test_index = np.load(os.path.join(dataset_path, 'train_test_index.npz'))['test_idx']\n",
    "test_dataset = HSEDataset(os.path.join(dataset_path, 'dataset.npz'), index=test_index)\n",
    "test_dataloader = DataLoader(dataset=test_dataset, batch_size=512, shuffle=False)"
   ]
  },
  {
   "cell_type": "code",
   "execution_count": 5,
   "metadata": {},
   "outputs": [],
   "source": [
    "def infer(frontal, lateral):\n",
    "    with torch.no_grad():\n",
    "        beta = infer_model(frontal, lateral)\n",
    "    \n",
    "    return beta"
   ]
  },
  {
   "cell_type": "code",
   "execution_count": 6,
   "metadata": {},
   "outputs": [],
   "source": [
    "smpl_model_path = './SMPL/model.pkl'\n",
    "smpl_model = SMPLModel(device=torch.device('cuda'), model_path=smpl_model_path)"
   ]
  },
  {
   "cell_type": "code",
   "execution_count": 7,
   "metadata": {},
   "outputs": [
    {
     "name": "stderr",
     "output_type": "stream",
     "text": [
      "100%|██████████| 15/15 [00:04<00:00,  3.44it/s]\n"
     ]
    },
    {
     "name": "stdout",
     "output_type": "stream",
     "text": [
      "(7541, 10) (7541, 10)\n"
     ]
    }
   ],
   "source": [
    "beta_out_list = []\n",
    "beta_gt_list = []\n",
    "\n",
    "for data in tqdm(test_dataloader):\n",
    "    f, l, b_gt = data\n",
    "    beta_gt_list.extend(b_gt)\n",
    "\n",
    "    f = f.to(device, dtype=torch.float)\n",
    "    l = l.to(device, dtype=torch.float)\n",
    "    b_out = infer(f, l)\n",
    "    b_out_arr = np.array(b_out.to('cpu'))\n",
    "    \n",
    "    beta_out_list.extend(b_out_arr)\n",
    "\n",
    "beta_out = np.vstack(beta_out_list)\n",
    "beta_gt = np.vstack(beta_gt_list)\n",
    "\n",
    "print(beta_out.shape, beta_gt.shape)"
   ]
  },
  {
   "cell_type": "code",
   "execution_count": 8,
   "metadata": {},
   "outputs": [],
   "source": [
    "def get_A_pose_parameter(size, pose_variant=False):\n",
    "    \"\"\"\n",
    "    Returns 'A-pose' SMPL pose paramters sized size\n",
    "\n",
    "    Arguments:\n",
    "        - size\n",
    "        - pose_variant (optional)\n",
    "\n",
    "    Return:\n",
    "        - poses\n",
    "    \"\"\"\n",
    "    poses = np.zeros((size, 72))\n",
    "    \n",
    "    left_arm_noise = np.radians(np.random.uniform(-5, 5, size)) if pose_variant else 0\n",
    "    right_arm_noise = np.radians(np.random.uniform(-5, 5, size)) if pose_variant else 0\n",
    "\n",
    "    poses[:,16 *3 + 2] = - np.pi / 3 + left_arm_noise # Left arm \n",
    "    poses[:,17 *3 + 2] = np.pi / 3 + right_arm_noise # Right arm\n",
    "\n",
    "    left_leg_noise = np.radians(np.random.uniform(-3, 3, size)) if pose_variant else 0\n",
    "    right_leg_noise = np.radians(np.random.uniform(-3, 3, size)) if pose_variant else 0\n",
    "\n",
    "    poses[:,1 *3 + 2] = +np.pi / 36 + left_leg_noise # Left leg\n",
    "    poses[:,2 *3 + 2] = -np.pi / 36 + right_leg_noise # Right leg\n",
    "\n",
    "    poses[:,10 *3 + 2] = -np.pi / 6 - left_leg_noise # Left foot\n",
    "    poses[:,11 *3 + 2] = +np.pi / 6 - right_leg_noise # Right foot\n",
    "\n",
    "    return poses"
   ]
  },
  {
   "cell_type": "code",
   "execution_count": 9,
   "metadata": {},
   "outputs": [],
   "source": [
    "beta_out_tensor = torch.from_numpy(beta_out).type(torch.float64).to(device)\n",
    "beta_gt_tensor = torch.from_numpy(beta_gt).type(torch.float64).to(device)\n",
    "\n",
    "pose = get_A_pose_parameter(beta_out.shape[0])\n",
    "pose_tensor = torch.from_numpy(pose).type(torch.float64).to(device)\n",
    "\n",
    "trans = np.zeros((beta_out.shape[0], 3))\n",
    "trans_tensor = torch.from_numpy(trans).type(torch.float64).to(device)"
   ]
  },
  {
   "cell_type": "code",
   "execution_count": 12,
   "metadata": {},
   "outputs": [
    {
     "name": "stderr",
     "output_type": "stream",
     "text": [
      "100%|██████████| 14/14 [00:17<00:00,  1.22s/it]\n"
     ]
    }
   ],
   "source": [
    "batch_size = 512\n",
    "num_batch = len(beta_out) // 512\n",
    "\n",
    "v_outs = None\n",
    "v_gts = None\n",
    "\n",
    "for i in tqdm(range(num_batch)):\n",
    "    if i < num_batch-1:\n",
    "        b_out = beta_out_tensor[i*batch_size:(i+1)*batch_size]\n",
    "        p = pose_tensor[i*batch_size:(i+1)*batch_size]\n",
    "        t = trans_tensor[i*batch_size:(i+1)*batch_size]\n",
    "        \n",
    "        b_gt = beta_gt_tensor[i*batch_size:(i+1)*batch_size]\n",
    "    else:\n",
    "        b_out = beta_out_tensor[i*batch_size:]\n",
    "        p = pose_tensor[i*batch_size:]\n",
    "        t = trans_tensor[i*batch_size:]\n",
    "        \n",
    "        b_gt = beta_gt_tensor[i*batch_size:]\n",
    "    \n",
    "    v_out, _ = smpl_model(b_out, p, t)\n",
    "    v_gt, _ = smpl_model(b_gt, p, t)\n",
    "\n",
    "    if v_outs is None:\n",
    "        v_outs = np.array(v_out.cpu())\n",
    "        v_gts = np.array(v_gt.cpu())\n",
    "    else:\n",
    "        v_outs = np.concatenate([v_outs, v_out.cpu()])\n",
    "        v_gts = np.concatenate([v_gts, v_gt.cpu()])"
   ]
  },
  {
   "attachments": {},
   "cell_type": "markdown",
   "metadata": {},
   "source": [
    "# Calculate V2V"
   ]
  },
  {
   "cell_type": "code",
   "execution_count": 13,
   "metadata": {},
   "outputs": [],
   "source": [
    "displacement = v_outs - v_gts\n",
    "distance = np.linalg.norm(displacement, axis=2)\n",
    "v2v = distance.mean(axis=1) * 1000"
   ]
  },
  {
   "cell_type": "code",
   "execution_count": 14,
   "metadata": {},
   "outputs": [
    {
     "name": "stdout",
     "output_type": "stream",
     "text": [
      "mean, std = 1.360 mm, 0.549 mm\n",
      "min, max = 0.328 mm, 10.023 mm\n"
     ]
    }
   ],
   "source": [
    "print(f'mean, std = {v2v.mean():.3f} mm, {v2v.std():.3f} mm')\n",
    "print(f'min, max = {v2v.min():.3f} mm, {v2v.max():.3f} mm')"
   ]
  },
  {
   "cell_type": "code",
   "execution_count": 15,
   "metadata": {},
   "outputs": [
    {
     "data": {
      "image/png": "[encoded data removed]",
      "text/plain": [
       "<Figure size 640x480 with 1 Axes>"
      ]
     },
     "metadata": {},
     "output_type": "display_data"
    }
   ],
   "source": [
    "hist, bins = np.histogram(v2v, bins=100)\n",
    "\n",
    "plt.title('Histogram of V2V')\n",
    "plt.xlabel('V2V (mm)')\n",
    "plt.ylabel('frequency')\n",
    "\n",
    "plt.hist(bins[:-1], bins, weights=hist)\n",
    "plt.show()"
   ]
  },
  {
   "cell_type": "code",
   "execution_count": 17,
   "metadata": {},
   "outputs": [
    {
     "name": "stdout",
     "output_type": "stream",
     "text": [
      "[ 329  419 1658 2102 2416 4580 5136 5818 5886 5904 5905 5906 6010 6043\n",
      " 6192 6248 6786 6810 7349 7428 7471 7490]\n"
     ]
    }
   ],
   "source": [
    "large_v2v_indices = np.where(v2v > 4.0)[0]\n",
    "print(large_v2v_indices)"
   ]
  },
  {
   "attachments": {},
   "cell_type": "markdown",
   "metadata": {},
   "source": [
    "# Save Merged Mesh"
   ]
  },
  {
   "cell_type": "code",
   "execution_count": 18,
   "metadata": {},
   "outputs": [],
   "source": [
    "from obj_utils.misc import *"
   ]
  },
  {
   "cell_type": "code",
   "execution_count": 19,
   "metadata": {},
   "outputs": [],
   "source": [
    "save_indices = large_v2v_indices"
   ]
  },
  {
   "cell_type": "code",
   "execution_count": 20,
   "metadata": {},
   "outputs": [
    {
     "name": "stderr",
     "output_type": "stream",
     "text": [
      "100%|██████████| 22/22 [00:01<00:00, 17.80it/s]\n"
     ]
    }
   ],
   "source": [
    "results_path = f'./test_results/{infer_model_name}'\n",
    "os.makedirs(results_path, exist_ok=True)\n",
    "\n",
    "for i in tqdm(save_indices):\n",
    "    v_out, v_gt = v_outs[i], v_gts[i]\n",
    "    name = f'smpl_{test_index[i]:05d}'\n",
    "\n",
    "    v_out_colored = add_vertices_color(v_out, [1., 0., 0.,])\n",
    "    v_gt_colored = add_vertices_color(v_gt, [0., 1., 0.,])\n",
    "\n",
    "    v_merged = merge_vertices(v_out_colored, v_gt_colored)\n",
    "    save_obj(os.path.join(results_path, f'{name}_merged.obj'), v_merged)"
   ]
  }
 ],
 "metadata": {
  "kernelspec": {
   "display_name": "HSE",
   "language": "python",
   "name": "python3"
  },
  "language_info": {
   "codemirror_mode": {
    "name": "ipython",
    "version": 3
   },
   "file_extension": ".py",
   "mimetype": "text/x-python",
   "name": "python",
   "nbconvert_exporter": "python",
   "pygments_lexer": "ipython3",
   "version": "3.8.16"
  },
  "orig_nbformat": 4
 },
 "nbformat": 4,
 "nbformat_minor": 2
}
