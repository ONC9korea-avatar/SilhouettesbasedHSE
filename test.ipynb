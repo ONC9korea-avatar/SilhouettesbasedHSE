{
 "cells": [
  {
   "cell_type": "code",
   "execution_count": 1,
   "metadata": {},
   "outputs": [],
   "source": [
    "import os\n",
    "import numpy as np\n",
    "from tqdm import tqdm\n",
    "\n",
    "import torch\n",
    "from model.dataset import HSEDataset\n",
    "from torch.utils.data import DataLoader\n",
    "\n",
    "from model.regressCNN import RegressionPCA\n",
    "from SMPL.smpl_torch_batch import SMPLModel\n",
    "\n",
    "from obj_utils.io import *\n",
    "from obj_utils.pca import *"
   ]
  },
  {
   "cell_type": "code",
   "execution_count": 2,
   "metadata": {},
   "outputs": [
    {
     "name": "stdout",
     "output_type": "stream",
     "text": [
      "cuda available: True\n",
      "using device cuda:0\n"
     ]
    }
   ],
   "source": [
    "cuda_available = torch.cuda.is_available()\n",
    "print('cuda available:', cuda_available)\n",
    "\n",
    "device = torch.device('cuda:0' if cuda_available else 'cpu')\n",
    "print('using device', device)"
   ]
  },
  {
   "attachments": {},
   "cell_type": "markdown",
   "metadata": {},
   "source": [
    "# Inference on Test Set"
   ]
  },
  {
   "cell_type": "code",
   "execution_count": 3,
   "metadata": {},
   "outputs": [],
   "source": [
    "# pca_base = np.load('./pca_data/train_set_pca_base.npy')\n",
    "# mean_vertices = np.load('./pca_data/train_set_vertices_mean.npy')\n",
    "\n",
    "# mesh_faces = np.load('./etc/face.npy')"
   ]
  },
  {
   "cell_type": "code",
   "execution_count": 4,
   "metadata": {},
   "outputs": [
    {
     "name": "stdout",
     "output_type": "stream",
     "text": [
      "model loaded\n"
     ]
    }
   ],
   "source": [
    "infer_model_name = 'checkpoint_Mon_May_29_23:14:31_2023'\n",
    "infer_model_path = f'./checkpoints/{infer_model_name}/male_1000.ckpt'\n",
    "\n",
    "infer_model = RegressionPCA(10).to(device)\n",
    "infer_model.load_state_dict(torch.load(infer_model_path))\n",
    "infer_model.eval()\n",
    "print('model loaded')"
   ]
  },
  {
   "cell_type": "code",
   "execution_count": 5,
   "metadata": {},
   "outputs": [
    {
     "name": "stderr",
     "output_type": "stream",
     "text": [
      "loading data: 100%|██████████| 170/170 [00:00<00:00, 1259.62it/s]\n"
     ]
    }
   ],
   "source": [
    "test_path = './dataset_HSE/vertex_6890/sample_648/test'\n",
    "\n",
    "test_dataset = HSEDataset(test_path, predict_only=True)\n",
    "test_dataloader = DataLoader(dataset=test_dataset, batch_size=256)"
   ]
  },
  {
   "cell_type": "code",
   "execution_count": 6,
   "metadata": {},
   "outputs": [],
   "source": [
    "def infer(frontal, lateral):\n",
    "    with torch.no_grad():\n",
    "        result = infer_model(frontal, lateral)\n",
    "    \n",
    "    return result"
   ]
  },
  {
   "cell_type": "code",
   "execution_count": 7,
   "metadata": {},
   "outputs": [
    {
     "name": "stdout",
     "output_type": "stream",
     "text": [
      " Tensor J_regressor shape:  torch.Size([24, 6890])\n",
      " Tensor joint_regressor shape:  torch.Size([24, 6890])\n",
      " Tensor weights shape:  torch.Size([6890, 24])\n",
      " Tensor posedirs shape:  torch.Size([6890, 3, 207])\n",
      " Tensor v_template shape:  torch.Size([6890, 3])\n",
      " Tensor shapedirs shape:  torch.Size([6890, 3, 10])\n"
     ]
    }
   ],
   "source": [
    "smpl_model_path = './SMPL/model.pkl'\n",
    "smpl_model = SMPLModel(device=torch.device('cuda'), model_path=smpl_model_path)"
   ]
  },
  {
   "cell_type": "code",
   "execution_count": 8,
   "metadata": {},
   "outputs": [],
   "source": [
    "obj_path = './dataset_HSE/vertex_6890/obj/test'\n",
    "result_path = f'./test_results/{infer_model_name}'"
   ]
  },
  {
   "cell_type": "code",
   "execution_count": 9,
   "metadata": {},
   "outputs": [
    {
     "name": "stderr",
     "output_type": "stream",
     "text": [
      "100%|██████████| 1/1 [00:01<00:00,  1.38s/it]"
     ]
    },
    {
     "name": "stdout",
     "output_type": "stream",
     "text": [
      "(170, 10)\n"
     ]
    },
    {
     "name": "stderr",
     "output_type": "stream",
     "text": [
      "\n"
     ]
    }
   ],
   "source": [
    "name_list = []\n",
    "result_list = []\n",
    "\n",
    "for data in tqdm(test_dataloader):\n",
    "    names, f, l, s = data\n",
    "    name_list.extend(names)\n",
    "\n",
    "    f = f.to(device, dtype=torch.float)\n",
    "    l = l.to(device, dtype=torch.float)\n",
    "    result = infer(f, l)\n",
    "    result = np.array(result.to('cpu'))\n",
    "    result_list.append(result)\n",
    "\n",
    "result_arr = np.vstack(result_list)\n",
    "print(result_arr.shape)"
   ]
  },
  {
   "cell_type": "code",
   "execution_count": 20,
   "metadata": {},
   "outputs": [],
   "source": [
    "pose = torch.from_numpy(np.zeros((result_arr.shape[0], 72))).type(torch.float64).to(device)\n",
    "pose[:,16 *3 +2] = -np.pi / 4\n",
    "pose[:,17 *3 +2] = np.pi / 4\n",
    "beta = torch.from_numpy(result_arr).type(torch.float64).to(device)\n",
    "trans = torch.from_numpy(np.zeros((result_arr.shape[0], 3))).type(torch.float64).to(device)"
   ]
  },
  {
   "cell_type": "code",
   "execution_count": 25,
   "metadata": {},
   "outputs": [
    {
     "data": {
      "text/plain": [
       "torch.Size([170, 6890, 3])"
      ]
     },
     "execution_count": 25,
     "metadata": {},
     "output_type": "execute_result"
    }
   ],
   "source": [
    "v_outs, _ = smpl_model(beta, pose, trans)\n",
    "v_outs = v_outs.cpu()\n",
    "v_outs.shape"
   ]
  },
  {
   "cell_type": "code",
   "execution_count": 26,
   "metadata": {},
   "outputs": [
    {
     "name": "stderr",
     "output_type": "stream",
     "text": [
      "100%|██████████| 170/170 [00:32<00:00,  5.24it/s]\n"
     ]
    }
   ],
   "source": [
    "for name, v_out in tqdm(zip(name_list, v_outs), total=len(v_outs)):\n",
    "    v_gt, faces = load_obj(os.path.join(obj_path, name+'.obj'))\n",
    "    # v_y_gt = v_gt[:, 1]\n",
    "    # height_gt = max(v_y_gt) - min(v_y_gt)\n",
    "\n",
    "    # v_out = shape_parameter_to_vertices(result, mean_vertices, pca_base, scale=True, height=height_gt)\n",
    "    \n",
    "    save_path = os.path.join(result_path, name)\n",
    "    os.makedirs(save_path, exist_ok=True)\n",
    "    save_obj(os.path.join(save_path, 'mesh_gt.obj'), v_gt, faces)\n",
    "    save_obj(os.path.join(save_path, 'mesh_out.obj'), v_out, faces)"
   ]
  },
  {
   "attachments": {},
   "cell_type": "markdown",
   "metadata": {},
   "source": [
    "# Calculate V2V"
   ]
  },
  {
   "cell_type": "code",
   "execution_count": 29,
   "metadata": {},
   "outputs": [],
   "source": [
    "import os\n",
    "import numpy as np\n",
    "import matplotlib.pyplot as plt\n",
    "\n",
    "from tqdm import tqdm\n",
    "\n",
    "from trimesh.registration import icp\n",
    "\n",
    "from obj_utils.io import *\n",
    "from obj_utils.transform import *\n",
    "from obj_utils.misc import *"
   ]
  },
  {
   "cell_type": "code",
   "execution_count": 30,
   "metadata": {},
   "outputs": [],
   "source": [
    "model_name = 'checkpoint_Mon_May_29_23:14:31_2023'\n",
    "result_path = f'./test_results/{model_name}'\n",
    "name_list = [i for i in os.listdir(result_path) if i.startswith('smpl')]"
   ]
  },
  {
   "cell_type": "code",
   "execution_count": 31,
   "metadata": {},
   "outputs": [
    {
     "name": "stderr",
     "output_type": "stream",
     "text": [
      "100%|██████████| 170/170 [00:47<00:00,  3.58it/s]\n"
     ]
    }
   ],
   "source": [
    "green, red = np.array([0., 1., 0.]), np.array([1., 0., 0.])\n",
    "v2v_list = []\n",
    "\n",
    "for name in tqdm(name_list):\n",
    "    v_gt, _ = load_obj(os.path.join(result_path, name, 'mesh_gt.obj'))\n",
    "    v_out, _ = load_obj(os.path.join(result_path, name, 'mesh_out.obj'))\n",
    "\n",
    "    v_gt_trans = move_to_center_position(v_gt)\n",
    "    v_out_trans = move_to_center_position(v_out)\n",
    "    _, v_out_trans, _ = icp(v_out_trans, v_gt_trans, scale=False)\n",
    "    \n",
    "    diff = v_gt_trans - v_out_trans\n",
    "    v2v = np.linalg.norm(diff, axis=1).mean()\n",
    "    v2v_list.append(v2v)\n",
    "\n",
    "    v_gt_colored = add_vertices_color(v_gt_trans, green)\n",
    "    v_out_trans_colored = add_vertices_color(v_out_trans, red)\n",
    "\n",
    "    v_merged = merge_vertices(v_gt_colored, v_out_trans_colored)\n",
    "    save_obj(os.path.join(result_path, name, 'mesh_merged.obj'), v_merged, None)\n",
    "\n",
    "v2v_arr = np.array(v2v_list) * 1000 # m -> mm\n",
    "np.save(os.path.join(result_path, 'v2v_arr.npy'), v2v_arr)"
   ]
  },
  {
   "cell_type": "code",
   "execution_count": 32,
   "metadata": {},
   "outputs": [
    {
     "name": "stdout",
     "output_type": "stream",
     "text": [
      "mean, std = 1.770 mm, 0.929 mm\n",
      "min, max = 0.532 mm, 8.586 mm\n"
     ]
    },
    {
     "data": {
      "image/png": "[encoded data removed]",
      "text/plain": [
       "<Figure size 640x480 with 1 Axes>"
      ]
     },
     "metadata": {},
     "output_type": "display_data"
    }
   ],
   "source": [
    "v2v_arr = np.load(os.path.join(result_path, 'v2v_arr.npy'))\n",
    "\n",
    "print(f'mean, std = {v2v_arr.mean():.3f} mm, {v2v_arr.std():.3f} mm')\n",
    "print(f'min, max = {v2v_arr.min():.3f} mm, {v2v_arr.max():.3f} mm')\n",
    "\n",
    "hist, bins = np.histogram(v2v_arr, bins=100)\n",
    "\n",
    "plt.title('Histogram of V2V')\n",
    "plt.xlabel('V2V (mm)')\n",
    "plt.ylabel('frequency')\n",
    "\n",
    "plt.hist(bins[:-1], bins, weights=hist)\n",
    "plt.show()"
   ]
  },
  {
   "cell_type": "code",
   "execution_count": 25,
   "metadata": {},
   "outputs": [
    {
     "name": "stdout",
     "output_type": "stream",
     "text": [
      "caesar_3177\n",
      "caesar_3729\n"
     ]
    }
   ],
   "source": [
    "idx = np.where(v2v_arr > 20)[0]\n",
    "\n",
    "for i in idx:\n",
    "    print(name_list[i])"
   ]
  }
 ],
 "metadata": {
  "kernelspec": {
   "display_name": "HSE",
   "language": "python",
   "name": "python3"
  },
  "language_info": {
   "codemirror_mode": {
    "name": "ipython",
    "version": 3
   },
   "file_extension": ".py",
   "mimetype": "text/x-python",
   "name": "python",
   "nbconvert_exporter": "python",
   "pygments_lexer": "ipython3",
   "version": "3.8.16"
  },
  "orig_nbformat": 4
 },
 "nbformat": 4,
 "nbformat_minor": 2
}
