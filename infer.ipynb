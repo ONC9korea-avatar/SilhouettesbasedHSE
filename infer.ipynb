{
 "cells": [
  {
   "cell_type": "code",
   "execution_count": 1,
   "metadata": {},
   "outputs": [
    {
     "name": "stderr",
     "output_type": "stream",
     "text": [
      "/home/dgist/miniconda3/envs/HSE/lib/python3.7/site-packages/tqdm/auto.py:21: TqdmWarning: IProgress not found. Please update jupyter and ipywidgets. See https://ipywidgets.readthedocs.io/en/stable/user_install.html\n",
      "  from .autonotebook import tqdm as notebook_tqdm\n"
     ]
    }
   ],
   "source": [
    "import os\n",
    "import numpy as np\n",
    "from tqdm import tqdm\n",
    "\n",
    "import torch\n",
    "from torch.utils.data import Dataset, DataLoader\n",
    "\n",
    "from regressCNN import RegressionPCA\n",
    "from widgets_HSE import getBinaryimage, getSamplePoints, save_obj \n",
    "\n",
    "from obj_utils.io import *"
   ]
  },
  {
   "cell_type": "code",
   "execution_count": 2,
   "metadata": {},
   "outputs": [
    {
     "name": "stdout",
     "output_type": "stream",
     "text": [
      "cuda available: True\n",
      "using device cuda:0\n"
     ]
    }
   ],
   "source": [
    "cuda_available = torch.cuda.is_available()\n",
    "print('cuda available:', cuda_available)\n",
    "\n",
    "device = torch.device('cuda:0' if cuda_available else 'cpu')\n",
    "print('using device', device)"
   ]
  },
  {
   "attachments": {},
   "cell_type": "markdown",
   "metadata": {},
   "source": [
    "# Inference on Test Set"
   ]
  },
  {
   "cell_type": "code",
   "execution_count": 3,
   "metadata": {},
   "outputs": [],
   "source": [
    "def repeat_data(x):\n",
    "    row, col = x.shape\n",
    "    data = np.zeros([row, col+2])\n",
    "    data[:, 0] = x[:, -1]\n",
    "    data[:, 1:-1] = x\n",
    "    data[:, -1] = x[:, 0]\n",
    "    return data\n",
    "\n",
    "class HSEDataset(Dataset):\n",
    "    def __init__(self, data_path, transform=None, predict_only=False):\n",
    "        self.data = []\n",
    "        self.transform = transform\n",
    "\n",
    "        for dir in tqdm(os.listdir(data_path), desc='loading data'):\n",
    "            path = os.path.join(data_path, dir)\n",
    "            f = np.load(os.path.join(path, 'frontal.npy'))\n",
    "            l = np.load(os.path.join(path, 'lateral.npy'))\n",
    "            s = 0 if predict_only else np.load(os.path.join(path, 'shape.npy'))\n",
    "\n",
    "            self.data.append([dir, f, l, s])\n",
    "\n",
    "    def __getitem__(self, i):\n",
    "        name, f, l, s = self.data[i]\n",
    "\n",
    "        f = repeat_data(f.transpose())\n",
    "        l = repeat_data(l.transpose())\n",
    "        return name, f, l, s\n",
    "\n",
    "    def __len__(self):\n",
    "        return len(self.data)"
   ]
  },
  {
   "cell_type": "code",
   "execution_count": 4,
   "metadata": {},
   "outputs": [],
   "source": [
    "pca_base = np.load('./infer/caesar_pca_base.npy')\n",
    "mean = np.load('./infer/caesar_mean.npy')\n",
    "\n",
    "mesh_faces = np.load('./infer/face.npy')\n",
    "\n",
    "def shape_parameter_to_vertices(shape_parameter, height):\n",
    "    vertices = shape_parameter.dot(pca_base) + mean.reshape((-1))\n",
    "    vertices = vertices.reshape((6449 ,3))\n",
    "\n",
    "    v_y = vertices[:, 1]\n",
    "    height_out = max(v_y) - min(v_y)\n",
    "    scale = height / height_out\n",
    "\n",
    "    vertices *= scale\n",
    "\n",
    "    return vertices"
   ]
  },
  {
   "cell_type": "code",
   "execution_count": 5,
   "metadata": {},
   "outputs": [
    {
     "name": "stdout",
     "output_type": "stream",
     "text": [
      "model loaded\n"
     ]
    }
   ],
   "source": [
    "model_name = './train/model/checkpoint_Thu_May__4_05:07:47_2023/male_1000.ckpt'\n",
    "infer_model = RegressionPCA(22).to(device)\n",
    "infer_model.load_state_dict(torch.load(model_name))\n",
    "infer_model.eval()\n",
    "print('model loaded')"
   ]
  },
  {
   "cell_type": "code",
   "execution_count": 6,
   "metadata": {},
   "outputs": [
    {
     "name": "stderr",
     "output_type": "stream",
     "text": [
      "loading data: 100%|██████████| 886/886 [00:01<00:00, 787.90it/s]\n"
     ]
    }
   ],
   "source": [
    "test_dataset = HSEDataset('../dataset-generation/datasets/HSE/sample_648/test/')\n",
    "test_dataloader = DataLoader(dataset=test_dataset, batch_size=1)"
   ]
  },
  {
   "cell_type": "code",
   "execution_count": 7,
   "metadata": {},
   "outputs": [],
   "source": [
    "def infer(frontal, lateral):\n",
    "    with torch.no_grad():\n",
    "        result = infer_model(frontal, lateral)\n",
    "    \n",
    "    return result"
   ]
  },
  {
   "cell_type": "code",
   "execution_count": 8,
   "metadata": {},
   "outputs": [],
   "source": [
    "model_name = 'checkpoint_Thu_May__4_05:07:47_2023'\n",
    "\n",
    "test_input_path = '../dataset-generation/datasets/HSE/sample_648/test/'\n",
    "obj_path = '../dataset-generation/obj/scaled/'\n",
    "result_path = f'./test_results/{model_name}'"
   ]
  },
  {
   "cell_type": "code",
   "execution_count": 9,
   "metadata": {},
   "outputs": [
    {
     "name": "stderr",
     "output_type": "stream",
     "text": [
      "100%|██████████| 886/886 [05:50<00:00,  2.53it/s]\n"
     ]
    }
   ],
   "source": [
    "for data in tqdm(test_dataloader):\n",
    "    name, f, l, s = data\n",
    "    name = name[0]\n",
    "\n",
    "    v_gt, _ = load_obj(os.path.join(obj_path, name+'.obj'))\n",
    "    v_y_gt = v_gt[:, 1]\n",
    "    height_gt = max(v_y_gt) - min(v_y_gt)\n",
    "\n",
    "    f = f.to(device, dtype=torch.float)\n",
    "    l = l.to(device, dtype=torch.float)\n",
    "    result = infer(f, l)\n",
    "    result = np.array(result.to('cpu'))\n",
    "\n",
    "    v_out = shape_parameter_to_vertices(result, height_gt)\n",
    "    \n",
    "    save_path = os.path.join(result_path, name)\n",
    "    os.makedirs(save_path, exist_ok=True)\n",
    "    save_obj(os.path.join(save_path, 'mesh_gt.obj'), v_gt, mesh_faces)\n",
    "    save_obj(os.path.join(save_path, 'mesh_out.obj'), v_out, mesh_faces)"
   ]
  },
  {
   "attachments": {},
   "cell_type": "markdown",
   "metadata": {},
   "source": [
    "# Calculate V2V"
   ]
  },
  {
   "cell_type": "code",
   "execution_count": 1,
   "metadata": {},
   "outputs": [],
   "source": [
    "import os\n",
    "import numpy as np\n",
    "import matplotlib.pyplot as plt\n",
    "\n",
    "from tqdm import tqdm\n",
    "\n",
    "from trimesh.registration import icp\n",
    "\n",
    "from obj_utils.io import *\n",
    "from obj_utils.misc import *"
   ]
  },
  {
   "cell_type": "code",
   "execution_count": 2,
   "metadata": {},
   "outputs": [],
   "source": [
    "result_path = './test_results/checkpoint_Thu_May__4_05:07:47_2023'"
   ]
  },
  {
   "cell_type": "code",
   "execution_count": 3,
   "metadata": {},
   "outputs": [
    {
     "name": "stderr",
     "output_type": "stream",
     "text": [
      "100%|██████████| 886/886 [04:04<00:00,  3.63it/s]\n"
     ]
    }
   ],
   "source": [
    "v2v_list = []\n",
    "\n",
    "for data in tqdm(os.listdir(result_path)):\n",
    "    v_gt, _ = load_obj(os.path.join(result_path, data, 'mesh_gt.obj'))\n",
    "    v_out, _ = load_obj(os.path.join(result_path, data, 'mesh_out.obj'))\n",
    "\n",
    "    _, v_out_trans, _ = icp(v_out, v_gt, scale=False)\n",
    "    \n",
    "    diff = v_gt - v_out_trans\n",
    "    v2v = np.linalg.norm(diff, axis=1).mean()\n",
    "    v2v_list.append(v2v)\n",
    "\n",
    "    green, red = np.array([0., 1., 0.]), np.array([1., 0., 0.])\n",
    "    v_gt_colored = add_vertices_color(v_gt, green)\n",
    "    v_out_trans_colored = add_vertices_color(v_out_trans, red)\n",
    "\n",
    "    v_merged = merge_vertices(v_gt_colored, v_out_trans_colored)\n",
    "    save_obj(os.path.join(result_path, data, 'mesh_merged.obj'), v_merged, [])\n",
    "\n",
    "v2v_arr = np.array(v2v_list)"
   ]
  },
  {
   "cell_type": "code",
   "execution_count": 4,
   "metadata": {},
   "outputs": [
    {
     "name": "stdout",
     "output_type": "stream",
     "text": [
      "min: 0.0009585225474617769\n",
      "max: 0.022997166704491753\n",
      "avg, std: 0.004361013519402105 0.003633848731066159\n"
     ]
    }
   ],
   "source": [
    "print('min:', v2v_arr.min())\n",
    "print('max:', v2v_arr.max())\n",
    "print('avg, std:', v2v_arr.mean(), v2v_arr.std())"
   ]
  },
  {
   "cell_type": "code",
   "execution_count": 9,
   "metadata": {},
   "outputs": [
    {
     "name": "stdout",
     "output_type": "stream",
     "text": [
      "caesar_3828\n",
      "caesar_3876\n",
      "caesar_617\n",
      "caesar_930\n"
     ]
    }
   ],
   "source": [
    "idx = np.where(v2v_arr > 0.02)[0]\n",
    "data_list = os.listdir(result_path)\n",
    "\n",
    "for i in idx:\n",
    "    print(data_list[i])"
   ]
  },
  {
   "cell_type": "code",
   "execution_count": 6,
   "metadata": {},
   "outputs": [
    {
     "data": {
      "image/png": "[encoded data removed]",
      "text/plain": [
       "<Figure size 640x480 with 1 Axes>"
      ]
     },
     "metadata": {},
     "output_type": "display_data"
    }
   ],
   "source": [
    "hist, bins = np.histogram(v2v_arr*1000, bins=30)\n",
    "\n",
    "plt.title('Histogram of V2V')\n",
    "plt.xlabel('V2V (mm)')\n",
    "plt.ylabel('frequency')\n",
    "\n",
    "plt.hist(bins[:-1], bins, weights=hist)\n",
    "plt.show()"
   ]
  }
 ],
 "metadata": {
  "kernelspec": {
   "display_name": "HSE",
   "language": "python",
   "name": "python3"
  },
  "language_info": {
   "codemirror_mode": {
    "name": "ipython",
    "version": 3
   },
   "file_extension": ".py",
   "mimetype": "text/x-python",
   "name": "python",
   "nbconvert_exporter": "python",
   "pygments_lexer": "ipython3",
   "version": "3.7.16"
  },
  "orig_nbformat": 4
 },
 "nbformat": 4,
 "nbformat_minor": 2
}
