{
 "cells": [
  {
   "cell_type": "code",
   "execution_count": 8,
   "metadata": {},
   "outputs": [],
   "source": [
    "import os\n",
    "import numpy as np\n",
    "from tqdm import tqdm\n",
    "\n",
    "import torch\n",
    "from torch.utils.data import Dataset, DataLoader\n",
    "\n",
    "from regressCNN import RegressionPCA\n",
    "from widgets_HSE import getBinaryimage, getSamplePoints, save_obj \n",
    "\n",
    "from obj_utils.io import *"
   ]
  },
  {
   "cell_type": "code",
   "execution_count": 6,
   "metadata": {},
   "outputs": [
    {
     "name": "stdout",
     "output_type": "stream",
     "text": [
      "cuda available: True\n",
      "using device cuda:0\n"
     ]
    }
   ],
   "source": [
    "cuda_available = torch.cuda.is_available()\n",
    "print('cuda available:', cuda_available)\n",
    "\n",
    "device = torch.device('cuda:0' if cuda_available else 'cpu')\n",
    "print('using device', device)"
   ]
  },
  {
   "attachments": {},
   "cell_type": "markdown",
   "metadata": {},
   "source": [
    "# Inference on Test Set"
   ]
  },
  {
   "cell_type": "code",
   "execution_count": 52,
   "metadata": {},
   "outputs": [],
   "source": [
    "def repeat_data(x):\n",
    "    row, col = x.shape\n",
    "    data = np.zeros([row, col+2])\n",
    "    data[:, 0] = x[:, -1]\n",
    "    data[:, 1:-1] = x\n",
    "    data[:, -1] = x[:, 0]\n",
    "    return data\n",
    "\n",
    "class HSEDataset(Dataset):\n",
    "    def __init__(self, data_path, transform=None):\n",
    "        self.data = []\n",
    "        self.transform = transform\n",
    "\n",
    "        for dir in tqdm(os.listdir(data_path), desc='loading data'):\n",
    "            path = os.path.join(data_path, dir)\n",
    "            f = np.load(os.path.join(path, 'frontal.npy'))\n",
    "            l = np.load(os.path.join(path, 'lateral.npy'))\n",
    "            s = np.load(os.path.join(path, 'shape.npy'))\n",
    "\n",
    "            self.data.append([dir, f, l, s])\n",
    "\n",
    "    def __getitem__(self, i):\n",
    "        name, f, l, s = self.data[i]\n",
    "\n",
    "        f = repeat_data(f.transpose())\n",
    "        l = repeat_data(l.transpose())\n",
    "        return name, f, l, s\n",
    "\n",
    "    def __len__(self):\n",
    "        return len(self.data)"
   ]
  },
  {
   "cell_type": "code",
   "execution_count": 35,
   "metadata": {},
   "outputs": [],
   "source": [
    "pca_base = np.load('./infer/caesar_pca_base.npy')\n",
    "mean = np.load('./infer/caesar_mean.npy')\n",
    "\n",
    "mesh_faces = np.load('./infer/face.npy')\n",
    "\n",
    "def shape_parameter_to_vertices(shape_parameter, height):\n",
    "    vertices = shape_parameter.dot(pca_base) + mean.reshape((-1))\n",
    "    vertices = vertices.reshape((6449 ,3))\n",
    "\n",
    "    v_y = vertices[:, 1]\n",
    "    height_out = max(v_y) - min(v_y)\n",
    "    scale = height / height_out\n",
    "\n",
    "    vertices *= scale\n",
    "\n",
    "    return vertices"
   ]
  },
  {
   "cell_type": "code",
   "execution_count": 53,
   "metadata": {},
   "outputs": [
    {
     "name": "stderr",
     "output_type": "stream",
     "text": [
      "loading data: 100%|██████████| 886/886 [00:00<00:00, 890.49it/s]\n"
     ]
    }
   ],
   "source": [
    "model_name = './train/model/model_male_200.ckpt'\n",
    "infer_model = RegressionPCA(22).to(device)\n",
    "infer_model.load_state_dict(torch.load(model_name))\n",
    "infer_model.eval()\n",
    "\n",
    "test_dataset = HSEDataset('../dataset-generation/datasets/HSE/sample_648/test/')\n",
    "test_dataloader = DataLoader(dataset=test_dataset, batch_size=1)"
   ]
  },
  {
   "cell_type": "code",
   "execution_count": 37,
   "metadata": {},
   "outputs": [],
   "source": [
    "def infer(frontal, lateral):\n",
    "    with torch.no_grad():\n",
    "        result = infer_model(frontal, lateral)\n",
    "    \n",
    "    return result"
   ]
  },
  {
   "cell_type": "code",
   "execution_count": 47,
   "metadata": {},
   "outputs": [],
   "source": [
    "test_input_path = '../dataset-generation/datasets/HSE/sample_648/test/'\n",
    "obj_path = '../dataset-generation/obj/scaled/'\n",
    "result_path = './test_results/'"
   ]
  },
  {
   "cell_type": "code",
   "execution_count": 66,
   "metadata": {},
   "outputs": [
    {
     "name": "stderr",
     "output_type": "stream",
     "text": [
      "100%|██████████| 886/886 [05:55<00:00,  2.49it/s]\n"
     ]
    }
   ],
   "source": [
    "for data in tqdm(test_dataloader):\n",
    "    name, f, l, s = data\n",
    "    name = name[0]\n",
    "\n",
    "    v_gt, _ = load_obj(os.path.join(obj_path, name+'.obj'))\n",
    "    v_y_gt = v_gt[:, 1]\n",
    "    height_gt = max(v_y_gt) - min(v_y_gt)\n",
    "\n",
    "    f = f.to(device, dtype=torch.float)\n",
    "    l = l.to(device, dtype=torch.float)\n",
    "    result = infer(f, l)\n",
    "    result = np.array(result.to('cpu'))\n",
    "\n",
    "    v_out = shape_parameter_to_vertices(result, height_gt)\n",
    "    \n",
    "    save_path = os.path.join(result_path, name)\n",
    "    os.makedirs(save_path, exist_ok=True)\n",
    "    save_obj(os.path.join(save_path, 'mesh_gt.obj'), v_gt, mesh_faces)\n",
    "    save_obj(os.path.join(save_path, 'mesh_out.obj'), v_out, mesh_faces)"
   ]
  },
  {
   "attachments": {},
   "cell_type": "markdown",
   "metadata": {},
   "source": [
    "# Calculate V2V"
   ]
  },
  {
   "cell_type": "code",
   "execution_count": 1,
   "metadata": {},
   "outputs": [],
   "source": [
    "import os\n",
    "import numpy as np\n",
    "import matplotlib.pyplot as plt\n",
    "\n",
    "from tqdm import tqdm\n",
    "\n",
    "from trimesh.registration import icp\n",
    "\n",
    "from obj_utils.io import *"
   ]
  },
  {
   "cell_type": "code",
   "execution_count": 2,
   "metadata": {},
   "outputs": [],
   "source": [
    "result_path = './test_results/'"
   ]
  },
  {
   "cell_type": "code",
   "execution_count": 3,
   "metadata": {},
   "outputs": [
    {
     "name": "stderr",
     "output_type": "stream",
     "text": [
      "100%|██████████| 886/886 [02:59<00:00,  4.95it/s]\n"
     ]
    }
   ],
   "source": [
    "v2v_list = []\n",
    "\n",
    "for data in tqdm(os.listdir(result_path)):\n",
    "    v_gt, _ = load_obj(os.path.join(result_path, data, 'mesh_gt.obj'))\n",
    "    v_out, _ = load_obj(os.path.join(result_path, data, 'mesh_out.obj'))\n",
    "\n",
    "    _, mesh_out_trans, _ = icp(v_gt, v_out)\n",
    "    \n",
    "    diff = v_gt - v_out\n",
    "    v2v = np.linalg.norm(diff, axis=1).mean()\n",
    "    v2v_list.append(v2v)\n",
    "\n",
    "v2v_arr = np.array(v2v_list)"
   ]
  },
  {
   "cell_type": "code",
   "execution_count": 19,
   "metadata": {},
   "outputs": [
    {
     "name": "stdout",
     "output_type": "stream",
     "text": [
      "min: 0.004468180369279236\n",
      "max: 0.12220359924569463\n",
      "avg, std: 0.030468386138763768 0.016103804345843728\n"
     ]
    }
   ],
   "source": [
    "print('min:', v2v_arr.min())\n",
    "print('max:', v2v_arr.max())\n",
    "print('avg, std:', v2v_arr.mean(), v2v_arr.std())"
   ]
  },
  {
   "cell_type": "code",
   "execution_count": 18,
   "metadata": {},
   "outputs": [
    {
     "data": {
      "image/png": "[encoded data removed]",
      "text/plain": [
       "<Figure size 640x480 with 1 Axes>"
      ]
     },
     "metadata": {},
     "output_type": "display_data"
    }
   ],
   "source": [
    "hist, bins = np.histogram(v2v_arr, bins=100)\n",
    "\n",
    "plt.title('Histogram of V2V')\n",
    "plt.xlabel('V2V (m)')\n",
    "plt.ylabel('frequency')\n",
    "\n",
    "plt.hist(bins[:-1], weights=hist)\n",
    "plt.show()"
   ]
  }
 ],
 "metadata": {
  "kernelspec": {
   "display_name": "HSE",
   "language": "python",
   "name": "python3"
  },
  "language_info": {
   "codemirror_mode": {
    "name": "ipython",
    "version": 3
   },
   "file_extension": ".py",
   "mimetype": "text/x-python",
   "name": "python",
   "nbconvert_exporter": "python",
   "pygments_lexer": "ipython3",
   "version": "3.7.16"
  },
  "orig_nbformat": 4
 },
 "nbformat": 4,
 "nbformat_minor": 2
}
