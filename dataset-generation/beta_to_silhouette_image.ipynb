{
 "cells": [
  {
   "cell_type": "code",
   "execution_count": 1,
   "metadata": {},
   "outputs": [],
   "source": [
    "import sys\n",
    "sys.path.append('..')"
   ]
  },
  {
   "cell_type": "code",
   "execution_count": 11,
   "metadata": {},
   "outputs": [],
   "source": [
    "import os\n",
    "import numpy as np\n",
    "\n",
    "import torch\n",
    "from torch.utils.data import DataLoader\n",
    "\n",
    "from tqdm import tqdm\n",
    "\n",
    "from SMPL.smpl_torch_batch import SMPLModel\n",
    "\n",
    "from obj_utils.smpl import *\n",
    "from obj_utils.projection import *\n",
    "\n",
    "from generation import SMPLDataset"
   ]
  },
  {
   "cell_type": "code",
   "execution_count": 3,
   "metadata": {},
   "outputs": [
    {
     "name": "stdout",
     "output_type": "stream",
     "text": [
      "True\n"
     ]
    }
   ],
   "source": [
    "# check cuda\n",
    "print(torch.cuda.is_available())"
   ]
  },
  {
   "cell_type": "markdown",
   "metadata": {},
   "source": [
    "### Load Betas"
   ]
  },
  {
   "cell_type": "code",
   "execution_count": 4,
   "metadata": {},
   "outputs": [
    {
     "name": "stdout",
     "output_type": "stream",
     "text": [
      "(25135, 10)\n"
     ]
    }
   ],
   "source": [
    "dataset_path = './dataset.npz'\n",
    "dataset = np.load(dataset_path)\n",
    "\n",
    "betas = dataset['betas']\n",
    "print(betas.shape)"
   ]
  },
  {
   "cell_type": "markdown",
   "metadata": {},
   "source": [
    "### Make Verts"
   ]
  },
  {
   "cell_type": "code",
   "execution_count": 5,
   "metadata": {},
   "outputs": [],
   "source": [
    "smpl_model_path = '../SMPL/model.pkl'\n",
    "smpl_model = SMPLModel(device='cuda', model_path=smpl_model_path)"
   ]
  },
  {
   "cell_type": "code",
   "execution_count": 9,
   "metadata": {},
   "outputs": [],
   "source": [
    "def smpl_reconstruction(betas, poses, smpl_model: SMPLModel, batch_size = 512):\n",
    "    smpl_dataset = SMPLDataset(beta_arr=betas, pose_arr=poses, device=smpl_model.device)\n",
    "    smpl_dataloader = DataLoader(smpl_dataset, batch_size=batch_size, shuffle=False)\n",
    "\n",
    "    smpl_meshes = []\n",
    "    pbar = tqdm(smpl_dataloader)\n",
    "    for parameters_batch in pbar:\n",
    "        batch_vertices, _ = smpl_parameters_batch_to_vertices_and_joints(parameters_batch, smpl_model)\n",
    "        \n",
    "        for vertices in batch_vertices:\n",
    "            smpl_meshes.append(vertices)\n",
    "    pbar.close()\n",
    "\n",
    "    smpl_meshes = np.array(smpl_meshes)\n",
    "    return smpl_meshes"
   ]
  },
  {
   "cell_type": "code",
   "execution_count": 10,
   "metadata": {},
   "outputs": [
    {
     "name": "stderr",
     "output_type": "stream",
     "text": [
      "100%|██████████| 50/50 [00:02<00:00, 22.84it/s]\n"
     ]
    },
    {
     "name": "stdout",
     "output_type": "stream",
     "text": [
      "(25135, 6890, 3)\n"
     ]
    }
   ],
   "source": [
    "poses = get_A_pose(betas.shape[0])\n",
    "verts = smpl_reconstruction(betas, poses, smpl_model)\n",
    "\n",
    "print(verts.shape)"
   ]
  },
  {
   "cell_type": "markdown",
   "metadata": {},
   "source": [
    "### Make Silhouettes"
   ]
  },
  {
   "cell_type": "code",
   "execution_count": 14,
   "metadata": {},
   "outputs": [
    {
     "name": "stderr",
     "output_type": "stream",
     "text": [
      "100%|██████████| 25135/25135 [28:38<00:00, 14.63it/s]\n"
     ]
    }
   ],
   "source": [
    "faces = smpl_model.faces\n",
    "\n",
    "for i, v in enumerate(tqdm(verts)):\n",
    "    v -= (v.min(axis=0) + v.max(axis=0)) / 2\n",
    "    h = v[:, 1].max() - v[:, 1].min()\n",
    "\n",
    "    v_f = v.copy()\n",
    "    v_l = v.copy()[:, ::-1]\n",
    "\n",
    "    v_f[:, 2] += 3.\n",
    "    v_f[:, 2] = 6. - v_f[:, 2]\n",
    "    v_l[:, 2] += 3.\n",
    "\n",
    "    p_f = pinhole(v_f)\n",
    "    p_l = pinhole(v_l)\n",
    "\n",
    "    s_f = make_silhouette(p_f, faces, 500, 600, h, 2.3)\n",
    "    s_l = make_silhouette(p_l, faces, 500, 600, h, 2.3)\n",
    "\n",
    "    save_path = os.path.join('silhouettes', f'{i:05d}')\n",
    "    os.makedirs(save_path, exist_ok=True)\n",
    "\n",
    "    s_f.save(os.path.join(save_path, 'frontal.png'))\n",
    "    s_l.save(os.path.join(save_path, 'lateral.png'))"
   ]
  }
 ],
 "metadata": {
  "kernelspec": {
   "display_name": "HSE",
   "language": "python",
   "name": "python3"
  },
  "language_info": {
   "codemirror_mode": {
    "name": "ipython",
    "version": 3
   },
   "file_extension": ".py",
   "mimetype": "text/x-python",
   "name": "python",
   "nbconvert_exporter": "python",
   "pygments_lexer": "ipython3",
   "version": "3.8.16"
  }
 },
 "nbformat": 4,
 "nbformat_minor": 2
}
