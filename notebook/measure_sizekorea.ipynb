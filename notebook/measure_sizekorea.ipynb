{
 "cells": [
  {
   "cell_type": "code",
   "execution_count": 1,
   "metadata": {},
   "outputs": [],
   "source": [
    "%load_ext autoreload\n",
    "%autoreload 2"
   ]
  },
  {
   "cell_type": "code",
   "execution_count": 2,
   "metadata": {},
   "outputs": [],
   "source": [
    "from obj_utils.io import load_obj, save_obj\n",
    "from obj_utils.measure import *\n",
    "\n",
    "from scipy.spatial import ConvexHull\n",
    "from scipy.interpolate import interpolate\n",
    "\n",
    "import matplotlib.pyplot as plt\n",
    "\n",
    "from tqdm import tqdm\n",
    "from numba import jit, njit"
   ]
  },
  {
   "cell_type": "code",
   "execution_count": 3,
   "metadata": {},
   "outputs": [],
   "source": [
    "BELLYBUTTON_INDEX = 3500\n",
    "GROIN_INDEX = 1208"
   ]
  },
  {
   "cell_type": "code",
   "execution_count": 4,
   "metadata": {},
   "outputs": [],
   "source": [
    "vertices, faces = load_obj('/workspace/SilhouettesbasedHSE/output/sizekorea/20_M_0052/mesh_out.obj')\n",
    "vertices[:, 1] -= vertices[:, 1].min()"
   ]
  },
  {
   "cell_type": "code",
   "execution_count": 5,
   "metadata": {},
   "outputs": [],
   "source": [
    "bellybutton_y = vertices[BELLYBUTTON_INDEX, 1]\n",
    "waist_plane = Plane.transverse(bellybutton_y)\n",
    "\n",
    "v_inter, f_inter = get_intersecting_submesh(waist_plane, vertices, faces)\n",
    "cc = get_connected_components(v_inter, f_inter)\n",
    "\n",
    "v_waist, f_waist = max(cc, key=lambda x: x[0].shape)\n",
    "v_waist_2d = v_waist[:, [0, 2]]"
   ]
  },
  {
   "cell_type": "code",
   "execution_count": 6,
   "metadata": {},
   "outputs": [
    {
     "data": {
      "text/plain": [
       "<matplotlib.collections.PathCollection at 0x7ffa45113d00>"
      ]
     },
     "execution_count": 6,
     "metadata": {},
     "output_type": "execute_result"
    },
    {
     "data": {
      "image/png": "[encoded data removed]",
      "text/plain": [
       "<Figure size 640x480 with 1 Axes>"
      ]
     },
     "metadata": {},
     "output_type": "display_data"
    }
   ],
   "source": [
    "plt.scatter(*v_waist_2d.T)"
   ]
  },
  {
   "cell_type": "code",
   "execution_count": 7,
   "metadata": {},
   "outputs": [],
   "source": [
    "# hull_idx = ConvexHull(v_waist_2d).vertices\n",
    "# hull_waist = v_waist_2d[hull_idx]\n",
    "\n",
    "# print(f'{get_loop_length(hull_waist)*100:.3f} cm')\n",
    "\n",
    "# tck, _ = interpolate.splprep(hull_waist.T, s=0)\n",
    "# inter_waist = interpolate.splev(np.linspace(0, 1, 1000), tck)\n",
    "\n",
    "# inter_x = np.append(inter_waist[0], inter_waist[0][0])\n",
    "# inter_y = np.append(inter_waist[1], inter_waist[1][0])\n",
    "\n",
    "# plt.plot(inter_x, inter_y)\n",
    "# plt.show()"
   ]
  },
  {
   "cell_type": "code",
   "execution_count": 8,
   "metadata": {},
   "outputs": [
    {
     "data": {
      "text/plain": [
       "796.7434802356457"
      ]
     },
     "execution_count": 8,
     "metadata": {},
     "output_type": "execute_result"
    }
   ],
   "source": [
    "def calculate_waist_length(v_smpl, f_smpl):\n",
    "    \"\"\"\n",
    "    Calculate waist length \n",
    "\n",
    "    Arguments:\n",
    "        - v_smpl SMPL vertices\n",
    "        - f_smpl SMPL faces\n",
    "\n",
    "    Return:\n",
    "        - waist_length (m)\n",
    "    \"\"\"\n",
    "    bellybutton_y = v_smpl[BELLYBUTTON_INDEX, 1]\n",
    "    waist_plane = Plane.transverse(bellybutton_y)\n",
    "\n",
    "    v_inter, f_inter = get_intersecting_submesh(waist_plane, v_smpl, f_smpl)\n",
    "    cc = get_connected_components(v_inter, f_inter)\n",
    "\n",
    "    v_waist, f_waist = max(cc, key=lambda x: x[0].shape)\n",
    "    v_waist_2d = v_waist[:, [0, 2]]\n",
    "\n",
    "    hull_idx = ConvexHull(v_waist_2d).vertices\n",
    "    hull_waist = v_waist_2d[hull_idx]\n",
    "\n",
    "    waist_length = get_loop_length(hull_waist)\n",
    "    return waist_length\n",
    "\n",
    "calculate_waist_length(vertices,faces) * 1000"
   ]
  },
  {
   "cell_type": "code",
   "execution_count": 9,
   "metadata": {},
   "outputs": [
    {
     "data": {
      "text/plain": [
       "0.7811319999999999"
      ]
     },
     "execution_count": 9,
     "metadata": {},
     "output_type": "execute_result"
    }
   ],
   "source": [
    "def calculate_groin_height(v_smpl):\n",
    "    \"\"\"\n",
    "    Calculate length from a floor to groin\n",
    "\n",
    "    Arguments:\n",
    "        - v_smpl SMPL vertices\n",
    "\n",
    "    Return:\n",
    "        - groin_y (m)\n",
    "    \"\"\"\n",
    "    groin_y = v_smpl[GROIN_INDEX, 1]\n",
    "    return groin_y\n",
    "\n",
    "calculate_groin_height(vertices)"
   ]
  },
  {
   "cell_type": "code",
   "execution_count": 10,
   "metadata": {},
   "outputs": [
    {
     "data": {
      "text/plain": [
       "[0.5966906869931164, 0.6062817349281466]"
      ]
     },
     "execution_count": 10,
     "metadata": {},
     "output_type": "execute_result"
    }
   ],
   "source": [
    "def calculate_thighs_length(v_smpl, f_smpl, dy = 0.005):\n",
    "    i = 1\n",
    "    while True:\n",
    "        groin_y = v_smpl[GROIN_INDEX, 1] - dy * i\n",
    "        groin_plane = Plane.transverse(groin_y)\n",
    "\n",
    "        v_inter, f_inter = get_intersecting_submesh(groin_plane, v_smpl, f_smpl)\n",
    "        cc = get_connected_components(v_inter, f_inter)\n",
    "\n",
    "        if len(cc) == 2:\n",
    "            break\n",
    "        i += 1\n",
    "\n",
    "    thighs_v, _ = zip(*cc)\n",
    "    thighs_v = sorted(thighs_v, key=lambda x: x[:, 0].min())\n",
    "    thighs_2d = [t[:, [0, 2]] for t in thighs_v]\n",
    "\n",
    "    thighs_length = []\n",
    "    for v_2d in thighs_2d:\n",
    "        hull_idx = ConvexHull(v_2d).vertices\n",
    "        hull_waist = v_2d[hull_idx]\n",
    "\n",
    "        length = get_loop_length(hull_waist)\n",
    "        thighs_length.append(length)\n",
    "\n",
    "    return thighs_length\n",
    "\n",
    "calculate_thighs_length(vertices, faces)"
   ]
  },
  {
   "cell_type": "code",
   "execution_count": 11,
   "metadata": {},
   "outputs": [],
   "source": [
    "@jit(nopython=True)\n",
    "def point_in_triangle(p, a, b, c):\n",
    "    # Check if point p is inside the triangle formed by vertices a, b, and c.\n",
    "    def sign(p1, p2, p3):\n",
    "        return (p1[:, 0] - p3[:, 0]) * (p2[:, 1] - p3[:, 1]) - (p2[:, 0] - p3[:, 0]) * (p1[:, 1] - p3[:, 1])\n",
    "\n",
    "    d1 = sign(p, a, b)\n",
    "    d2 = sign(p, b, c)\n",
    "    d3 = sign(p, c, a)\n",
    "    \n",
    "    has_neg = (d1 < 0) | (d2 < 0) | (d3 < 0)\n",
    "    has_pos = (d1 > 0) | (d2 > 0) | (d3 > 0)\n",
    "    \n",
    "    return  ~(has_neg & has_pos)"
   ]
  },
  {
   "cell_type": "code",
   "execution_count": 61,
   "metadata": {},
   "outputs": [
    {
     "ename": "TypingError",
     "evalue": "Failed in nopython mode pipeline (step: nopython frontend)\nUse of unsupported NumPy function 'numpy.einsum' or unsupported use of the function.\n\nFile \"../../tmp/ipykernel_895799/3251216444.py\", line 15:\n<source missing, REPL/exec in use?>\n\nDuring: typing of get attribute at /tmp/ipykernel_895799/3251216444.py (15)\n\nFile \"../../tmp/ipykernel_895799/3251216444.py\", line 15:\n<source missing, REPL/exec in use?>\n",
     "output_type": "error",
     "traceback": [
      "\u001b[0;31m---------------------------------------------------------------------------\u001b[0m",
      "\u001b[0;31mTypingError\u001b[0m                               Traceback (most recent call last)",
      "\u001b[1;32m/workspace/SilhouettesbasedHSE/measure_sizekorea.ipynb Cell 12\u001b[0m line \u001b[0;36m4\n\u001b[1;32m      <a href='vscode-notebook-cell://ssh-remote%2Brunpod/workspace/SilhouettesbasedHSE/measure_sizekorea.ipynb#X14sdnNjb2RlLXJlbW90ZQ%3D%3D?line=0'>1</a>\u001b[0m \u001b[39mfrom\u001b[39;00m \u001b[39mnumba\u001b[39;00m \u001b[39mimport\u001b[39;00m int32, float64\n\u001b[1;32m      <a href='vscode-notebook-cell://ssh-remote%2Brunpod/workspace/SilhouettesbasedHSE/measure_sizekorea.ipynb#X14sdnNjb2RlLXJlbW90ZQ%3D%3D?line=2'>3</a>\u001b[0m \u001b[39m@njit\u001b[39;49m(int32(float64[:], float64[:],float64[:,:,:]))\n\u001b[0;32m----> <a href='vscode-notebook-cell://ssh-remote%2Brunpod/workspace/SilhouettesbasedHSE/measure_sizekorea.ipynb#X14sdnNjb2RlLXJlbW90ZQ%3D%3D?line=3'>4</a>\u001b[0m \u001b[39mdef\u001b[39;49;00m \u001b[39mintersect_line_triangle\u001b[39;49m(segment_start, segment_end, triangles_vertices):\n\u001b[1;32m      <a href='vscode-notebook-cell://ssh-remote%2Brunpod/workspace/SilhouettesbasedHSE/measure_sizekorea.ipynb#X14sdnNjb2RlLXJlbW90ZQ%3D%3D?line=4'>5</a>\u001b[0m     \u001b[39m# Define the triangle vertices (a, b, and c).\u001b[39;49;00m\n\u001b[1;32m      <a href='vscode-notebook-cell://ssh-remote%2Brunpod/workspace/SilhouettesbasedHSE/measure_sizekorea.ipynb#X14sdnNjb2RlLXJlbW90ZQ%3D%3D?line=5'>6</a>\u001b[0m     a \u001b[39m=\u001b[39;49m triangles_vertices[:,\u001b[39m0\u001b[39;49m,:]\n\u001b[1;32m      <a href='vscode-notebook-cell://ssh-remote%2Brunpod/workspace/SilhouettesbasedHSE/measure_sizekorea.ipynb#X14sdnNjb2RlLXJlbW90ZQ%3D%3D?line=6'>7</a>\u001b[0m     b \u001b[39m=\u001b[39;49m triangles_vertices[:,\u001b[39m1\u001b[39;49m,:]\n",
      "File \u001b[0;32m/workspace/miniconda3/envs/numba/lib/python3.9/site-packages/numba/core/decorators.py:241\u001b[0m, in \u001b[0;36m_jit.<locals>.wrapper\u001b[0;34m(func)\u001b[0m\n\u001b[1;32m    239\u001b[0m     \u001b[39mwith\u001b[39;00m typeinfer\u001b[39m.\u001b[39mregister_dispatcher(disp):\n\u001b[1;32m    240\u001b[0m         \u001b[39mfor\u001b[39;00m sig \u001b[39min\u001b[39;00m sigs:\n\u001b[0;32m--> 241\u001b[0m             disp\u001b[39m.\u001b[39;49mcompile(sig)\n\u001b[1;32m    242\u001b[0m         disp\u001b[39m.\u001b[39mdisable_compile()\n\u001b[1;32m    243\u001b[0m \u001b[39mreturn\u001b[39;00m disp\n",
      "File \u001b[0;32m/workspace/miniconda3/envs/numba/lib/python3.9/site-packages/numba/core/dispatcher.py:965\u001b[0m, in \u001b[0;36mDispatcher.compile\u001b[0;34m(self, sig)\u001b[0m\n\u001b[1;32m    963\u001b[0m \u001b[39mwith\u001b[39;00m ev\u001b[39m.\u001b[39mtrigger_event(\u001b[39m\"\u001b[39m\u001b[39mnumba:compile\u001b[39m\u001b[39m\"\u001b[39m, data\u001b[39m=\u001b[39mev_details):\n\u001b[1;32m    964\u001b[0m     \u001b[39mtry\u001b[39;00m:\n\u001b[0;32m--> 965\u001b[0m         cres \u001b[39m=\u001b[39m \u001b[39mself\u001b[39;49m\u001b[39m.\u001b[39;49m_compiler\u001b[39m.\u001b[39;49mcompile(args, return_type)\n\u001b[1;32m    966\u001b[0m     \u001b[39mexcept\u001b[39;00m errors\u001b[39m.\u001b[39mForceLiteralArg \u001b[39mas\u001b[39;00m e:\n\u001b[1;32m    967\u001b[0m         \u001b[39mdef\u001b[39;00m \u001b[39mfolded\u001b[39m(args, kws):\n",
      "File \u001b[0;32m/workspace/miniconda3/envs/numba/lib/python3.9/site-packages/numba/core/dispatcher.py:129\u001b[0m, in \u001b[0;36m_FunctionCompiler.compile\u001b[0;34m(self, args, return_type)\u001b[0m\n\u001b[1;32m    127\u001b[0m     \u001b[39mreturn\u001b[39;00m retval\n\u001b[1;32m    128\u001b[0m \u001b[39melse\u001b[39;00m:\n\u001b[0;32m--> 129\u001b[0m     \u001b[39mraise\u001b[39;00m retval\n",
      "File \u001b[0;32m/workspace/miniconda3/envs/numba/lib/python3.9/site-packages/numba/core/dispatcher.py:139\u001b[0m, in \u001b[0;36m_FunctionCompiler._compile_cached\u001b[0;34m(self, args, return_type)\u001b[0m\n\u001b[1;32m    136\u001b[0m     \u001b[39mpass\u001b[39;00m\n\u001b[1;32m    138\u001b[0m \u001b[39mtry\u001b[39;00m:\n\u001b[0;32m--> 139\u001b[0m     retval \u001b[39m=\u001b[39m \u001b[39mself\u001b[39;49m\u001b[39m.\u001b[39;49m_compile_core(args, return_type)\n\u001b[1;32m    140\u001b[0m \u001b[39mexcept\u001b[39;00m errors\u001b[39m.\u001b[39mTypingError \u001b[39mas\u001b[39;00m e:\n\u001b[1;32m    141\u001b[0m     \u001b[39mself\u001b[39m\u001b[39m.\u001b[39m_failed_cache[key] \u001b[39m=\u001b[39m e\n",
      "File \u001b[0;32m/workspace/miniconda3/envs/numba/lib/python3.9/site-packages/numba/core/dispatcher.py:152\u001b[0m, in \u001b[0;36m_FunctionCompiler._compile_core\u001b[0;34m(self, args, return_type)\u001b[0m\n\u001b[1;32m    149\u001b[0m flags \u001b[39m=\u001b[39m \u001b[39mself\u001b[39m\u001b[39m.\u001b[39m_customize_flags(flags)\n\u001b[1;32m    151\u001b[0m impl \u001b[39m=\u001b[39m \u001b[39mself\u001b[39m\u001b[39m.\u001b[39m_get_implementation(args, {})\n\u001b[0;32m--> 152\u001b[0m cres \u001b[39m=\u001b[39m compiler\u001b[39m.\u001b[39;49mcompile_extra(\u001b[39mself\u001b[39;49m\u001b[39m.\u001b[39;49mtargetdescr\u001b[39m.\u001b[39;49mtyping_context,\n\u001b[1;32m    153\u001b[0m                               \u001b[39mself\u001b[39;49m\u001b[39m.\u001b[39;49mtargetdescr\u001b[39m.\u001b[39;49mtarget_context,\n\u001b[1;32m    154\u001b[0m                               impl,\n\u001b[1;32m    155\u001b[0m                               args\u001b[39m=\u001b[39;49margs, return_type\u001b[39m=\u001b[39;49mreturn_type,\n\u001b[1;32m    156\u001b[0m                               flags\u001b[39m=\u001b[39;49mflags, \u001b[39mlocals\u001b[39;49m\u001b[39m=\u001b[39;49m\u001b[39mself\u001b[39;49m\u001b[39m.\u001b[39;49mlocals,\n\u001b[1;32m    157\u001b[0m                               pipeline_class\u001b[39m=\u001b[39;49m\u001b[39mself\u001b[39;49m\u001b[39m.\u001b[39;49mpipeline_class)\n\u001b[1;32m    158\u001b[0m \u001b[39m# Check typing error if object mode is used\u001b[39;00m\n\u001b[1;32m    159\u001b[0m \u001b[39mif\u001b[39;00m cres\u001b[39m.\u001b[39mtyping_error \u001b[39mis\u001b[39;00m \u001b[39mnot\u001b[39;00m \u001b[39mNone\u001b[39;00m \u001b[39mand\u001b[39;00m \u001b[39mnot\u001b[39;00m flags\u001b[39m.\u001b[39menable_pyobject:\n",
      "File \u001b[0;32m/workspace/miniconda3/envs/numba/lib/python3.9/site-packages/numba/core/compiler.py:762\u001b[0m, in \u001b[0;36mcompile_extra\u001b[0;34m(typingctx, targetctx, func, args, return_type, flags, locals, library, pipeline_class)\u001b[0m\n\u001b[1;32m    738\u001b[0m \u001b[39m\u001b[39m\u001b[39m\"\"\"Compiler entry point\u001b[39;00m\n\u001b[1;32m    739\u001b[0m \n\u001b[1;32m    740\u001b[0m \u001b[39mParameter\u001b[39;00m\n\u001b[0;32m   (...)\u001b[0m\n\u001b[1;32m    758\u001b[0m \u001b[39m    compiler pipeline\u001b[39;00m\n\u001b[1;32m    759\u001b[0m \u001b[39m\"\"\"\u001b[39;00m\n\u001b[1;32m    760\u001b[0m pipeline \u001b[39m=\u001b[39m pipeline_class(typingctx, targetctx, library,\n\u001b[1;32m    761\u001b[0m                           args, return_type, flags, \u001b[39mlocals\u001b[39m)\n\u001b[0;32m--> 762\u001b[0m \u001b[39mreturn\u001b[39;00m pipeline\u001b[39m.\u001b[39;49mcompile_extra(func)\n",
      "File \u001b[0;32m/workspace/miniconda3/envs/numba/lib/python3.9/site-packages/numba/core/compiler.py:460\u001b[0m, in \u001b[0;36mCompilerBase.compile_extra\u001b[0;34m(self, func)\u001b[0m\n\u001b[1;32m    458\u001b[0m \u001b[39mself\u001b[39m\u001b[39m.\u001b[39mstate\u001b[39m.\u001b[39mlifted \u001b[39m=\u001b[39m ()\n\u001b[1;32m    459\u001b[0m \u001b[39mself\u001b[39m\u001b[39m.\u001b[39mstate\u001b[39m.\u001b[39mlifted_from \u001b[39m=\u001b[39m \u001b[39mNone\u001b[39;00m\n\u001b[0;32m--> 460\u001b[0m \u001b[39mreturn\u001b[39;00m \u001b[39mself\u001b[39;49m\u001b[39m.\u001b[39;49m_compile_bytecode()\n",
      "File \u001b[0;32m/workspace/miniconda3/envs/numba/lib/python3.9/site-packages/numba/core/compiler.py:528\u001b[0m, in \u001b[0;36mCompilerBase._compile_bytecode\u001b[0;34m(self)\u001b[0m\n\u001b[1;32m    524\u001b[0m \u001b[39m\u001b[39m\u001b[39m\"\"\"\u001b[39;00m\n\u001b[1;32m    525\u001b[0m \u001b[39mPopulate and run pipeline for bytecode input\u001b[39;00m\n\u001b[1;32m    526\u001b[0m \u001b[39m\"\"\"\u001b[39;00m\n\u001b[1;32m    527\u001b[0m \u001b[39massert\u001b[39;00m \u001b[39mself\u001b[39m\u001b[39m.\u001b[39mstate\u001b[39m.\u001b[39mfunc_ir \u001b[39mis\u001b[39;00m \u001b[39mNone\u001b[39;00m\n\u001b[0;32m--> 528\u001b[0m \u001b[39mreturn\u001b[39;00m \u001b[39mself\u001b[39;49m\u001b[39m.\u001b[39;49m_compile_core()\n",
      "File \u001b[0;32m/workspace/miniconda3/envs/numba/lib/python3.9/site-packages/numba/core/compiler.py:507\u001b[0m, in \u001b[0;36mCompilerBase._compile_core\u001b[0;34m(self)\u001b[0m\n\u001b[1;32m    505\u001b[0m         \u001b[39mself\u001b[39m\u001b[39m.\u001b[39mstate\u001b[39m.\u001b[39mstatus\u001b[39m.\u001b[39mfail_reason \u001b[39m=\u001b[39m e\n\u001b[1;32m    506\u001b[0m         \u001b[39mif\u001b[39;00m is_final_pipeline:\n\u001b[0;32m--> 507\u001b[0m             \u001b[39mraise\u001b[39;00m e\n\u001b[1;32m    508\u001b[0m \u001b[39melse\u001b[39;00m:\n\u001b[1;32m    509\u001b[0m     \u001b[39mraise\u001b[39;00m CompilerError(\u001b[39m\"\u001b[39m\u001b[39mAll available pipelines exhausted\u001b[39m\u001b[39m\"\u001b[39m)\n",
      "File \u001b[0;32m/workspace/miniconda3/envs/numba/lib/python3.9/site-packages/numba/core/compiler.py:494\u001b[0m, in \u001b[0;36mCompilerBase._compile_core\u001b[0;34m(self)\u001b[0m\n\u001b[1;32m    492\u001b[0m res \u001b[39m=\u001b[39m \u001b[39mNone\u001b[39;00m\n\u001b[1;32m    493\u001b[0m \u001b[39mtry\u001b[39;00m:\n\u001b[0;32m--> 494\u001b[0m     pm\u001b[39m.\u001b[39;49mrun(\u001b[39mself\u001b[39;49m\u001b[39m.\u001b[39;49mstate)\n\u001b[1;32m    495\u001b[0m     \u001b[39mif\u001b[39;00m \u001b[39mself\u001b[39m\u001b[39m.\u001b[39mstate\u001b[39m.\u001b[39mcr \u001b[39mis\u001b[39;00m \u001b[39mnot\u001b[39;00m \u001b[39mNone\u001b[39;00m:\n\u001b[1;32m    496\u001b[0m         \u001b[39mbreak\u001b[39;00m\n",
      "File \u001b[0;32m/workspace/miniconda3/envs/numba/lib/python3.9/site-packages/numba/core/compiler_machinery.py:368\u001b[0m, in \u001b[0;36mPassManager.run\u001b[0;34m(self, state)\u001b[0m\n\u001b[1;32m    365\u001b[0m msg \u001b[39m=\u001b[39m \u001b[39m\"\u001b[39m\u001b[39mFailed in \u001b[39m\u001b[39m%s\u001b[39;00m\u001b[39m mode pipeline (step: \u001b[39m\u001b[39m%s\u001b[39;00m\u001b[39m)\u001b[39m\u001b[39m\"\u001b[39m \u001b[39m%\u001b[39m \\\n\u001b[1;32m    366\u001b[0m     (\u001b[39mself\u001b[39m\u001b[39m.\u001b[39mpipeline_name, pass_desc)\n\u001b[1;32m    367\u001b[0m patched_exception \u001b[39m=\u001b[39m \u001b[39mself\u001b[39m\u001b[39m.\u001b[39m_patch_error(msg, e)\n\u001b[0;32m--> 368\u001b[0m \u001b[39mraise\u001b[39;00m patched_exception\n",
      "File \u001b[0;32m/workspace/miniconda3/envs/numba/lib/python3.9/site-packages/numba/core/compiler_machinery.py:356\u001b[0m, in \u001b[0;36mPassManager.run\u001b[0;34m(self, state)\u001b[0m\n\u001b[1;32m    354\u001b[0m pass_inst \u001b[39m=\u001b[39m _pass_registry\u001b[39m.\u001b[39mget(pss)\u001b[39m.\u001b[39mpass_inst\n\u001b[1;32m    355\u001b[0m \u001b[39mif\u001b[39;00m \u001b[39misinstance\u001b[39m(pass_inst, CompilerPass):\n\u001b[0;32m--> 356\u001b[0m     \u001b[39mself\u001b[39;49m\u001b[39m.\u001b[39;49m_runPass(idx, pass_inst, state)\n\u001b[1;32m    357\u001b[0m \u001b[39melse\u001b[39;00m:\n\u001b[1;32m    358\u001b[0m     \u001b[39mraise\u001b[39;00m \u001b[39mBaseException\u001b[39;00m(\u001b[39m\"\u001b[39m\u001b[39mLegacy pass in use\u001b[39m\u001b[39m\"\u001b[39m)\n",
      "File \u001b[0;32m/workspace/miniconda3/envs/numba/lib/python3.9/site-packages/numba/core/compiler_lock.py:35\u001b[0m, in \u001b[0;36m_CompilerLock.__call__.<locals>._acquire_compile_lock\u001b[0;34m(*args, **kwargs)\u001b[0m\n\u001b[1;32m     32\u001b[0m \u001b[39m@functools\u001b[39m\u001b[39m.\u001b[39mwraps(func)\n\u001b[1;32m     33\u001b[0m \u001b[39mdef\u001b[39;00m \u001b[39m_acquire_compile_lock\u001b[39m(\u001b[39m*\u001b[39margs, \u001b[39m*\u001b[39m\u001b[39m*\u001b[39mkwargs):\n\u001b[1;32m     34\u001b[0m     \u001b[39mwith\u001b[39;00m \u001b[39mself\u001b[39m:\n\u001b[0;32m---> 35\u001b[0m         \u001b[39mreturn\u001b[39;00m func(\u001b[39m*\u001b[39;49margs, \u001b[39m*\u001b[39;49m\u001b[39m*\u001b[39;49mkwargs)\n",
      "File \u001b[0;32m/workspace/miniconda3/envs/numba/lib/python3.9/site-packages/numba/core/compiler_machinery.py:311\u001b[0m, in \u001b[0;36mPassManager._runPass\u001b[0;34m(self, index, pss, internal_state)\u001b[0m\n\u001b[1;32m    309\u001b[0m     mutated \u001b[39m|\u001b[39m\u001b[39m=\u001b[39m check(pss\u001b[39m.\u001b[39mrun_initialization, internal_state)\n\u001b[1;32m    310\u001b[0m \u001b[39mwith\u001b[39;00m SimpleTimer() \u001b[39mas\u001b[39;00m pass_time:\n\u001b[0;32m--> 311\u001b[0m     mutated \u001b[39m|\u001b[39m\u001b[39m=\u001b[39m check(pss\u001b[39m.\u001b[39;49mrun_pass, internal_state)\n\u001b[1;32m    312\u001b[0m \u001b[39mwith\u001b[39;00m SimpleTimer() \u001b[39mas\u001b[39;00m finalize_time:\n\u001b[1;32m    313\u001b[0m     mutated \u001b[39m|\u001b[39m\u001b[39m=\u001b[39m check(pss\u001b[39m.\u001b[39mrun_finalizer, internal_state)\n",
      "File \u001b[0;32m/workspace/miniconda3/envs/numba/lib/python3.9/site-packages/numba/core/compiler_machinery.py:273\u001b[0m, in \u001b[0;36mPassManager._runPass.<locals>.check\u001b[0;34m(func, compiler_state)\u001b[0m\n\u001b[1;32m    272\u001b[0m \u001b[39mdef\u001b[39;00m \u001b[39mcheck\u001b[39m(func, compiler_state):\n\u001b[0;32m--> 273\u001b[0m     mangled \u001b[39m=\u001b[39m func(compiler_state)\n\u001b[1;32m    274\u001b[0m     \u001b[39mif\u001b[39;00m mangled \u001b[39mnot\u001b[39;00m \u001b[39min\u001b[39;00m (\u001b[39mTrue\u001b[39;00m, \u001b[39mFalse\u001b[39;00m):\n\u001b[1;32m    275\u001b[0m         msg \u001b[39m=\u001b[39m (\u001b[39m\"\u001b[39m\u001b[39mCompilerPass implementations should return True/False. \u001b[39m\u001b[39m\"\u001b[39m\n\u001b[1;32m    276\u001b[0m                \u001b[39m\"\u001b[39m\u001b[39mCompilerPass with name \u001b[39m\u001b[39m'\u001b[39m\u001b[39m%s\u001b[39;00m\u001b[39m'\u001b[39m\u001b[39m did not.\u001b[39m\u001b[39m\"\u001b[39m)\n",
      "File \u001b[0;32m/workspace/miniconda3/envs/numba/lib/python3.9/site-packages/numba/core/typed_passes.py:110\u001b[0m, in \u001b[0;36mBaseTypeInference.run_pass\u001b[0;34m(self, state)\u001b[0m\n\u001b[1;32m    104\u001b[0m \u001b[39m\u001b[39m\u001b[39m\"\"\"\u001b[39;00m\n\u001b[1;32m    105\u001b[0m \u001b[39mType inference and legalization\u001b[39;00m\n\u001b[1;32m    106\u001b[0m \u001b[39m\"\"\"\u001b[39;00m\n\u001b[1;32m    107\u001b[0m \u001b[39mwith\u001b[39;00m fallback_context(state, \u001b[39m'\u001b[39m\u001b[39mFunction \u001b[39m\u001b[39m\"\u001b[39m\u001b[39m%s\u001b[39;00m\u001b[39m\"\u001b[39m\u001b[39m failed type inference\u001b[39m\u001b[39m'\u001b[39m\n\u001b[1;32m    108\u001b[0m                       \u001b[39m%\u001b[39m (state\u001b[39m.\u001b[39mfunc_id\u001b[39m.\u001b[39mfunc_name,)):\n\u001b[1;32m    109\u001b[0m     \u001b[39m# Type inference\u001b[39;00m\n\u001b[0;32m--> 110\u001b[0m     typemap, return_type, calltypes, errs \u001b[39m=\u001b[39m type_inference_stage(\n\u001b[1;32m    111\u001b[0m         state\u001b[39m.\u001b[39;49mtypingctx,\n\u001b[1;32m    112\u001b[0m         state\u001b[39m.\u001b[39;49mtargetctx,\n\u001b[1;32m    113\u001b[0m         state\u001b[39m.\u001b[39;49mfunc_ir,\n\u001b[1;32m    114\u001b[0m         state\u001b[39m.\u001b[39;49margs,\n\u001b[1;32m    115\u001b[0m         state\u001b[39m.\u001b[39;49mreturn_type,\n\u001b[1;32m    116\u001b[0m         state\u001b[39m.\u001b[39;49mlocals,\n\u001b[1;32m    117\u001b[0m         raise_errors\u001b[39m=\u001b[39;49m\u001b[39mself\u001b[39;49m\u001b[39m.\u001b[39;49m_raise_errors)\n\u001b[1;32m    118\u001b[0m     state\u001b[39m.\u001b[39mtypemap \u001b[39m=\u001b[39m typemap\n\u001b[1;32m    119\u001b[0m     \u001b[39m# save errors in case of partial typing\u001b[39;00m\n",
      "File \u001b[0;32m/workspace/miniconda3/envs/numba/lib/python3.9/site-packages/numba/core/typed_passes.py:88\u001b[0m, in \u001b[0;36mtype_inference_stage\u001b[0;34m(typingctx, targetctx, interp, args, return_type, locals, raise_errors)\u001b[0m\n\u001b[1;32m     86\u001b[0m     infer\u001b[39m.\u001b[39mbuild_constraint()\n\u001b[1;32m     87\u001b[0m     \u001b[39m# return errors in case of partial typing\u001b[39;00m\n\u001b[0;32m---> 88\u001b[0m     errs \u001b[39m=\u001b[39m infer\u001b[39m.\u001b[39;49mpropagate(raise_errors\u001b[39m=\u001b[39;49mraise_errors)\n\u001b[1;32m     89\u001b[0m     typemap, restype, calltypes \u001b[39m=\u001b[39m infer\u001b[39m.\u001b[39munify(raise_errors\u001b[39m=\u001b[39mraise_errors)\n\u001b[1;32m     91\u001b[0m \u001b[39m# Output all Numba warnings\u001b[39;00m\n",
      "File \u001b[0;32m/workspace/miniconda3/envs/numba/lib/python3.9/site-packages/numba/core/typeinfer.py:1086\u001b[0m, in \u001b[0;36mTypeInferer.propagate\u001b[0;34m(self, raise_errors)\u001b[0m\n\u001b[1;32m   1083\u001b[0m force_lit_args \u001b[39m=\u001b[39m [e \u001b[39mfor\u001b[39;00m e \u001b[39min\u001b[39;00m errors\n\u001b[1;32m   1084\u001b[0m                   \u001b[39mif\u001b[39;00m \u001b[39misinstance\u001b[39m(e, ForceLiteralArg)]\n\u001b[1;32m   1085\u001b[0m \u001b[39mif\u001b[39;00m \u001b[39mnot\u001b[39;00m force_lit_args:\n\u001b[0;32m-> 1086\u001b[0m     \u001b[39mraise\u001b[39;00m errors[\u001b[39m0\u001b[39m]\n\u001b[1;32m   1087\u001b[0m \u001b[39melse\u001b[39;00m:\n\u001b[1;32m   1088\u001b[0m     \u001b[39mraise\u001b[39;00m reduce(operator\u001b[39m.\u001b[39mor_, force_lit_args)\n",
      "\u001b[0;31mTypingError\u001b[0m: Failed in nopython mode pipeline (step: nopython frontend)\nUse of unsupported NumPy function 'numpy.einsum' or unsupported use of the function.\n\nFile \"../../tmp/ipykernel_895799/3251216444.py\", line 15:\n<source missing, REPL/exec in use?>\n\nDuring: typing of get attribute at /tmp/ipykernel_895799/3251216444.py (15)\n\nFile \"../../tmp/ipykernel_895799/3251216444.py\", line 15:\n<source missing, REPL/exec in use?>\n"
     ]
    }
   ],
   "source": [
    "from numba import int32, float64\n",
    "\n",
    "@njit(int32(float64[:], float64[:],float64[:,:,:]))\n",
    "def intersect_line_triangle(segment_start, segment_end, triangles_vertices):\n",
    "    # Define the triangle vertices (a, b, and c).\n",
    "    a = triangles_vertices[:,0,:]\n",
    "    b = triangles_vertices[:,1,:]\n",
    "    c = triangles_vertices[:,2,:]\n",
    "    # Calculate the normal of the triangle.\n",
    "\n",
    "    normal = np.cross(a - b,  c - a)\n",
    "\n",
    "    # # Check if the line segment is parallel to the triangle plane.\n",
    "    segment_direction = segment_end - segment_start\n",
    "    # segment_normal_dot = np.einsum('p,bn->b', segment_direction, normal) TODO: replace einsum to other\n",
    "    \n",
    "    # if np.all(segment_normal_dot == 0):\n",
    "    #     return False\n",
    "    \n",
    "    # non_zero = segment_normal_dot != 0\n",
    "    # a = a[non_zero] - segment_start\n",
    "    # segment_normal_dot = segment_normal_dot[non_zero]\n",
    "    # normal = normal[non_zero]\n",
    "\n",
    "    # num_non_zero = non_zero.sum()\n",
    "\n",
    "    # t = np.einsum('bp,bn->b', a, normal) / segment_normal_dot\n",
    "\n",
    "    # segment_start = np.broadcast_to(segment_start, (num_non_zero, 3))\n",
    "    # segment_direction = np.broadcast_to(segment_direction, (num_non_zero, 3 ))\n",
    "    \n",
    "    # intersection_point = segment_start + t.reshape((-1,1)) * segment_direction\n",
    "    \n",
    "    # # # Check if the intersection point is inside the triangle.\n",
    "    # return np.any(point_in_triangle(intersection_point, a, b, c))"
   ]
  },
  {
   "cell_type": "code",
   "execution_count": null,
   "metadata": {},
   "outputs": [],
   "source": [
    "@njit(float64[:,:](float64[:,:],int32[:,:]))\n",
    "def floyd_warshall(vertices, faces):\n",
    "    num_vertices = len(vertices)\n",
    "    num_faces = len(faces)\n",
    "    triangles_vertices = np.zeros((num_faces, 3, 3),dtype=np.float64)\n",
    "\n",
    "    for i, f in enumerate(faces):\n",
    "        for j, v in enumerate(f):\n",
    "            triangles_vertices[i,j,:] = vertices[i,v]\n",
    "\n",
    "    dist = np.full((num_vertices, num_vertices), np.inf)\n",
    "    for k in range(num_vertices):\n",
    "        for i in range(num_vertices):\n",
    "            for j in range(num_vertices):\n",
    "                p1 = vertices[i, :]\n",
    "                p2 = vertices[j, :]\n",
    "                \n",
    "                intersect_line_triangle(p1,p2,triangles_vertices)\n",
    "                # if not intersect_line_triangle(p1, p2, triangles_vertices):\n",
    "                #     dist[i, j] = np.linalg.norm(p1 - p2)\n",
    "                # elif dist[i,k] + dist[k,j] < dist[i,j]:\n",
    "                #     dist[i,j] = dist[i,k] + dist[k,j]\n",
    "                break\n",
    "            break\n",
    "        break\n",
    "    return dist"
   ]
  },
  {
   "cell_type": "code",
   "execution_count": null,
   "metadata": {},
   "outputs": [],
   "source": [
    "def calculate_biacromion_length(v_smpl, f_smpl):\n",
    "    dist = floyd_warshall(v_smpl, f_smpl)\n",
    "    # return dist[1821][5282]\n",
    "\n",
    "calculate_biacromion_length(vertices[:100], faces)"
   ]
  }
 ],
 "metadata": {
  "kernelspec": {
   "display_name": "Python 3",
   "language": "python",
   "name": "python3"
  },
  "language_info": {
   "codemirror_mode": {
    "name": "ipython",
    "version": 3
   },
   "file_extension": ".py",
   "mimetype": "text/x-python",
   "name": "python",
   "nbconvert_exporter": "python",
   "pygments_lexer": "ipython3",
   "version": "3.9.18"
  }
 },
 "nbformat": 4,
 "nbformat_minor": 2
}
